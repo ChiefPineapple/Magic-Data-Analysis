{
 "cells": [
  {
   "cell_type": "markdown",
   "metadata": {},
   "source": [
    "### This Notebook will scrape MTG Goldfish's MetaGame Page for the top Modern Format decks\n",
    "#### The purpose is to pull together a small data set to practice basic data analysis on"
   ]
  },
  {
   "cell_type": "markdown",
   "metadata": {},
   "source": [
    "Importing Necessary Libraries and defining primary variables"
   ]
  },
  {
   "cell_type": "code",
   "execution_count": 2,
   "metadata": {},
   "outputs": [],
   "source": [
    "#importing requests to access the websites that hold the meta data and beautiful soup that will help parce the html and csv to create a csv file for late data analysis\n",
    "import requests\n",
    "from bs4 import BeautifulSoup\n",
    "import csv\n",
    "#this holds the html text for the main page that holds the links for each meta deck \n",
    "main_page = requests.get('https://www.mtggoldfish.com/metagame/modern/full#paper')\n",
    "#creatinga beautiful soup object of the main page text\n",
    "main_soup = BeautifulSoup(main_page.content,'html.parser')\n",
    "#list to hold the links to individual decks\n",
    "links = []\n",
    "#lists for holding the various data\n",
    "decks = {}"
   ]
  },
  {
   "cell_type": "markdown",
   "metadata": {},
   "source": [
    "Getting the pages for each specific deck from the metagame page"
   ]
  },
  {
   "cell_type": "code",
   "execution_count": 3,
   "metadata": {},
   "outputs": [],
   "source": [
    "#finding each deck title (to grab the links)\n",
    "titles = main_soup.find_all('div',class_ = 'archetype-tile-title')\n",
    "#iterating through each title to save the links to each deck\n",
    "for x in titles:\n",
    "    title = x.find('span', class_ = 'deck-price-paper')\n",
    "    link = 'https://www.mtggoldfish.com'+title.find('a').get('href')\n",
    "    links.append(link)"
   ]
  },
  {
   "cell_type": "markdown",
   "metadata": {},
   "source": [
    "Iterating through the list of deck pages to gather the desired data from each deck"
   ]
  },
  {
   "cell_type": "code",
   "execution_count": 4,
   "metadata": {},
   "outputs": [],
   "source": [
    "#iterating through each deck link\n",
    "for i in links:\n",
    "    #holding the card names\n",
    "    names = []\n",
    "    #holding the card counts \n",
    "    counts = []\n",
    "    #holding the card prices\n",
    "    card_prices = []\n",
    "    #requesting the text of the deck page\n",
    "    deck_page = requests.get(i)\n",
    "    #creating a soup object from the deck page\n",
    "    deck_soup = BeautifulSoup(deck_page.content,'html.parser')\n",
    "    #finding the total deck price and adding it to the list\n",
    "    total_price = deck_soup.find('div',class_='deck-price-v2 paper').text\n",
    "    total_price = float(str(total_price).replace('$','').replace(',',''))\n",
    "    #finding the card names and adding them to the list\n",
    "    soup_table = deck_soup.find('div',class_='deck-table-container')\n",
    "    soup_names = soup_table.find_all('span',class_='card_id card_name')\n",
    "    #iterating through the names to get the text and add it to the list\n",
    "    for x in soup_names:\n",
    "        name = x.find('a').get_text()\n",
    "        names.append(name)\n",
    "    #finding the card quantities+price and adding them to the list\n",
    "    soup_counts = soup_table.find_all('td',class_='text-right')\n",
    "    for x in soup_counts:\n",
    "        count = x.get_text()\n",
    "        if '$' in count:\n",
    "            card_price = float(str(count).replace('$','').replace(',',''))\n",
    "            card_prices.append(card_price)\n",
    "        else:\n",
    "            count = count.replace('tix','')\n",
    "            counts.append(count.strip('\\n'))\n",
    "    #getting the deck name\n",
    "    deck_name = deck_soup.find('h1',class_='title').get_text()\n",
    "    deck_name = deck_name[1:deck_name.find('by')-1]\n",
    "    #adding the data to decklists\n",
    "    decks[deck_name] = {\"total price\":total_price,\n",
    "                        \"cards\":names,\n",
    "                        \"counts\":counts,\n",
    "                        \"card prices\":card_prices\n",
    "                       }"
   ]
  },
  {
   "cell_type": "markdown",
   "metadata": {},
   "source": [
    "Taking the data and saving it to a csv for later analysis"
   ]
  },
  {
   "cell_type": "code",
   "execution_count": 6,
   "metadata": {},
   "outputs": [],
   "source": [
    "#opening/making the file\n",
    "f = open('Top Mordern Magic Decks Data.csv','w')\n",
    "#initializing the writer\n",
    "w = csv.writer(f)\n",
    "#iterating through each deck\n",
    "#Columns: Deck Name, Total Price, Card Name, Card Quantity, Card Price\n",
    "counter = 0\n",
    "w.writerow(['Deck Name', 'Total Price', 'Card Name', 'Card Quantity', 'Card Price'])\n",
    "for deck in decks:\n",
    "    for name in decks[deck]['cards']:\n",
    "        w.writerow([deck,decks[deck]['total price'],name,decks[deck]['counts'][counter],decks[deck]['card prices'][counter]])\n",
    "        counter += 1\n",
    "    counter = 0"
   ]
  },
  {
   "cell_type": "code",
   "execution_count": null,
   "metadata": {},
   "outputs": [],
   "source": []
  }
 ],
 "metadata": {
  "kernelspec": {
   "display_name": "Python 3",
   "language": "python",
   "name": "python3"
  },
  "language_info": {
   "codemirror_mode": {
    "name": "ipython",
    "version": 3
   },
   "file_extension": ".py",
   "mimetype": "text/x-python",
   "name": "python",
   "nbconvert_exporter": "python",
   "pygments_lexer": "ipython3",
   "version": "3.7.6"
  }
 },
 "nbformat": 4,
 "nbformat_minor": 4
}
